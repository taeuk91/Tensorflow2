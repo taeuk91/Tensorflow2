{
  "nbformat": 4,
  "nbformat_minor": 0,
  "metadata": {
    "colab": {
      "name": "TF class 2_Variable.ipynb",
      "provenance": [],
      "collapsed_sections": [],
      "authorship_tag": "ABX9TyOiCMClAQ5WAZi6aRM6lhPj",
      "include_colab_link": true
    },
    "kernelspec": {
      "name": "python3",
      "display_name": "Python 3"
    },
    "language_info": {
      "name": "python"
    }
  },
  "cells": [
    {
      "cell_type": "markdown",
      "metadata": {
        "id": "view-in-github",
        "colab_type": "text"
      },
      "source": [
        "<a href=\"https://colab.research.google.com/github/taeuk91/Tensorflow2/blob/main/TF_class_2_Variable.ipynb\" target=\"_parent\"><img src=\"https://colab.research.google.com/assets/colab-badge.svg\" alt=\"Open In Colab\"/></a>"
      ]
    },
    {
      "cell_type": "code",
      "execution_count": null,
      "metadata": {
        "id": "6PNRZycuPXXC"
      },
      "outputs": [],
      "source": [
        "import tensorflow as tf"
      ]
    },
    {
      "cell_type": "code",
      "source": [
        "# input 배열의 각 원소를 x Tensor의 배열에 곱한 후, 각 원소에 5씩 더한다\n",
        "input = [1, 2, 3, 4, 5]"
      ],
      "metadata": {
        "id": "Ny3bKp4eP9Mk"
      },
      "execution_count": null,
      "outputs": []
    },
    {
      "cell_type": "code",
      "source": [
        "x = tf.Variable(tf.ones(shape=(5)), name=\"x\")\n",
        "\n",
        "# tensorflow version 1에서는 placeholder를 사용\n",
        "# x = tf.placeholder(dtype=tf.float32)\n",
        "# y = x + 5\n",
        "# sess = tf.Session()\n",
        "# sess.run(y, feed_dict={x: input})\n",
        "\n",
        "def add_function(x):\n",
        "  return x + 5"
      ],
      "metadata": {
        "id": "uow9gxNIP-7L"
      },
      "execution_count": null,
      "outputs": []
    },
    {
      "cell_type": "code",
      "source": [
        "y = input * x\n",
        "print(y)\n",
        "\n",
        "# "
      ],
      "metadata": {
        "colab": {
          "base_uri": "https://localhost:8080/"
        },
        "id": "qropd0pfQaib",
        "outputId": "14d83497-cf07-4461-f40a-f26bbf045153"
      },
      "execution_count": null,
      "outputs": [
        {
          "output_type": "stream",
          "name": "stdout",
          "text": [
            "tf.Tensor([1. 2. 3. 4. 5.], shape=(5,), dtype=float32)\n"
          ]
        }
      ]
    },
    {
      "cell_type": "code",
      "source": [
        "add_function(y)"
      ],
      "metadata": {
        "colab": {
          "base_uri": "https://localhost:8080/"
        },
        "id": "6IIfn8J8R_7y",
        "outputId": "f4c051b0-9368-4655-f961-ce6b67a9b704"
      },
      "execution_count": null,
      "outputs": [
        {
          "output_type": "execute_result",
          "data": {
            "text/plain": [
              "<tf.Tensor: shape=(5,), dtype=float32, numpy=array([ 6.,  7.,  8.,  9., 10.], dtype=float32)>"
            ]
          },
          "metadata": {},
          "execution_count": 57
        }
      ]
    },
    {
      "cell_type": "code",
      "source": [
        "# 수학 성적과 영어 성적의 평균값 구하기\n",
        "\n",
        "mathScore = [80, 99, 84, 97, 92]\n",
        "englishScore = [80, 80, 84, 68, 77]\n",
        "\n",
        "a = tf.Variable(tf.ones(shape=(5)), name=\"a\") # 그릇 a\n",
        "b = tf.Variable(tf.ones(shape=(5)), name=\"b\") # 그릇 b\n",
        "\n",
        "def average_function(a, b): \n",
        "  return (a + b) / 2"
      ],
      "metadata": {
        "id": "Q9Soig7VS-Wi"
      },
      "execution_count": null,
      "outputs": []
    },
    {
      "cell_type": "code",
      "source": [
        "c = mathScore * a\n",
        "d = englishScore * b\n",
        "\n",
        "t = average_function(c, d)\n",
        "print(t)\n",
        "t.numpy()"
      ],
      "metadata": {
        "colab": {
          "base_uri": "https://localhost:8080/"
        },
        "id": "ubczkIVJUXwL",
        "outputId": "569f58ca-3df1-41c7-8e73-141630b53259"
      },
      "execution_count": null,
      "outputs": [
        {
          "output_type": "stream",
          "name": "stdout",
          "text": [
            "tf.Tensor([80.  89.5 84.  82.5 84.5], shape=(5,), dtype=float32)\n"
          ]
        },
        {
          "output_type": "execute_result",
          "data": {
            "text/plain": [
              "array([80. , 89.5, 84. , 82.5, 84.5], dtype=float32)"
            ]
          },
          "metadata": {},
          "execution_count": 64
        }
      ]
    }
  ]
}