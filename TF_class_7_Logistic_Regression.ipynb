{
  "nbformat": 4,
  "nbformat_minor": 0,
  "metadata": {
    "colab": {
      "name": "TF class 7_Logistic Regression.ipynb",
      "provenance": [],
      "authorship_tag": "ABX9TyNPzPxjHMW+kMs8fCXgPEbB",
      "include_colab_link": true
    },
    "kernelspec": {
      "name": "python3",
      "display_name": "Python 3"
    },
    "language_info": {
      "name": "python"
    }
  },
  "cells": [
    {
      "cell_type": "markdown",
      "metadata": {
        "id": "view-in-github",
        "colab_type": "text"
      },
      "source": [
        "<a href=\"https://colab.research.google.com/github/taeuk91/Tensorflow2/blob/main/TF_class_7_Logistic_Regression.ipynb\" target=\"_parent\"><img src=\"https://colab.research.google.com/assets/colab-badge.svg\" alt=\"Open In Colab\"/></a>"
      ]
    },
    {
      "cell_type": "code",
      "execution_count": null,
      "metadata": {
        "id": "NaJN2NqWWD7V"
      },
      "outputs": [],
      "source": [
        "import tensorflow as tf\n",
        "import numpy as np\n",
        "import matplotlib.pyplot as plt"
      ]
    },
    {
      "cell_type": "code",
      "source": [
        "x_train = np.array([\n",
        "    [1, 2],\n",
        "    [2, 3],\n",
        "    [3, 1],\n",
        "    [4, 3],\n",
        "    [5, 3],\n",
        "    [6, 2]], dtype=np.float32)\n",
        "y_train = np.array([\n",
        "    [0],\n",
        "    [0],\n",
        "    [0],\n",
        "    [1],\n",
        "    [1],\n",
        "    [1]], dtype=np.float32)\n",
        "\n",
        "x_test = np.array([[5, 2]], dtype=np.float32)\n",
        "y_test = np.array([[1]], dtype=np.float32)\n",
        "\n",
        "x1 = [x[0] for x in x_train]\n",
        "x2 = [x[1] for x in x_train]\n",
        "\n",
        "colors = [int(y[0] % 3) for y in y_train]\n",
        "plt.scatter(x1,x2, c=colors , marker='^')\n",
        "plt.scatter(x_test[0][0],x_test[0][1], c=\"red\")\n",
        "\n",
        "plt.xlabel(\"x1\")\n",
        "plt.ylabel(\"x2\")\n",
        "plt.show()"
      ],
      "metadata": {
        "colab": {
          "base_uri": "https://localhost:8080/",
          "height": 279
        },
        "id": "2aGdGxSsFQiM",
        "outputId": "950263c5-fc0c-44b2-8ef1-995049589f26"
      },
      "execution_count": null,
      "outputs": [
        {
          "output_type": "display_data",
          "data": {
            "image/png": "[encoded data removed]",
            "text/plain": [
              "<Figure size 432x288 with 1 Axes>"
            ]
          },
          "metadata": {
            "needs_background": "light"
          }
        }
      ]
    },
    {
      "cell_type": "code",
      "source": [
        "# tf.data.Dataset 파이프라인을 이용하여 값을 입력\n",
        "# from_tensor_slices 클래스 매서드를 사용하면 리스트, 넘파이, 텐서플로 자료형에서 데이터셋을 만들 수 있음\n",
        "dataset = tf.data.Dataset.from_tensor_slices((x_train, y_train)).batch(len(x_train))\n",
        "W = tf.Variable(tf.zeros([2, 1]), name='weight')\n",
        "b = tf.Variable(tf.zeros([1]), name='bias')"
      ],
      "metadata": {
        "id": "Jiu6bAd-FqTw"
      },
      "execution_count": null,
      "outputs": []
    },
    {
      "cell_type": "code",
      "source": [
        "# 원소의 자료구조 반환\n",
        "dataset.element_spec"
      ],
      "metadata": {
        "colab": {
          "base_uri": "https://localhost:8080/"
        },
        "id": "nlTZNOFDFt6R",
        "outputId": "5eba1f3d-88de-4547-944b-6d3ff371c986"
      },
      "execution_count": null,
      "outputs": [
        {
          "output_type": "execute_result",
          "data": {
            "text/plain": [
              "(TensorSpec(shape=(None, 2), dtype=tf.float32, name=None),\n",
              " TensorSpec(shape=(None, 1), dtype=tf.float32, name=None))"
            ]
          },
          "metadata": {},
          "execution_count": 14
        }
      ]
    },
    {
      "cell_type": "code",
      "source": [
        "def logistic_regression(features):\n",
        "    hypothesis = tf.sigmoid(tf.matmul(features, W) + b)\n",
        "    return hypothesis\n",
        "\n",
        "# cost function\n",
        "def loss_fn(features, labels):\n",
        "    hypothesis = logistic_regression(features)\n",
        "    cost = -tf.reduce_mean(labels * tf.math.log(hypothesis) + (1 - labels) * tf.math.log(1 - hypothesis))\n",
        "    return cost\n",
        "\n",
        "\n",
        "def grad(hypothesis, features, labels):\n",
        "    with tf.GradientTape() as tape:\n",
        "        loss_value = loss_fn(features, labels)\n",
        "    return tape.gradient(loss_value, [W,b])"
      ],
      "metadata": {
        "id": "7JEEXI6JFwbz"
      },
      "execution_count": null,
      "outputs": []
    },
    {
      "cell_type": "code",
      "source": [
        "optimizer = tf.keras.optimizers.SGD(learning_rate=0.01)"
      ],
      "metadata": {
        "id": "HLpAGG7zFzUT"
      },
      "execution_count": null,
      "outputs": []
    },
    {
      "cell_type": "code",
      "source": [
        "epochs = 3000\n",
        "\n",
        "for step in range(epochs + 1):\n",
        "    for features, labels in iter(dataset):\n",
        "        hypothesis = logistic_regression(features)\n",
        "        grads = grad(hypothesis, features, labels)\n",
        "        optimizer.apply_gradients(grads_and_vars=zip(grads, [W,b]))\n",
        "        if step % 300 == 0:\n",
        "            print(\"Iter: {}, Loss: {:.4f}\".format(step, loss_fn(features, labels)))\n",
        "            # print(hypothesis)"
      ],
      "metadata": {
        "colab": {
          "base_uri": "https://localhost:8080/"
        },
        "id": "luA2QcDaF1dG",
        "outputId": "813d8456-cd0e-435a-8289-0e2e6a361e4f"
      },
      "execution_count": null,
      "outputs": [
        {
          "output_type": "stream",
          "name": "stdout",
          "text": [
            "Iter: 0, Loss: 0.6874\n",
            "Iter: 300, Loss: 0.5054\n",
            "Iter: 600, Loss: 0.4535\n",
            "Iter: 900, Loss: 0.4228\n",
            "Iter: 1200, Loss: 0.3992\n",
            "Iter: 1500, Loss: 0.3790\n",
            "Iter: 1800, Loss: 0.3608\n",
            "Iter: 2100, Loss: 0.3442\n",
            "Iter: 2400, Loss: 0.3288\n",
            "Iter: 2700, Loss: 0.3146\n",
            "Iter: 3000, Loss: 0.3013\n"
          ]
        }
      ]
    },
    {
      "cell_type": "code",
      "source": [
        "def accuracy_fn(hypothesis, labels):\n",
        "    predicted = tf.cast(hypothesis > 0.5, dtype=tf.float32)\n",
        "    accuracy = tf.reduce_mean(tf.cast(tf.equal(predicted, labels), dtype=tf.int32))\n",
        "    return accuracy"
      ],
      "metadata": {
        "id": "ovQmwISaF-pE"
      },
      "execution_count": null,
      "outputs": []
    },
    {
      "cell_type": "code",
      "source": [
        "test_acc = accuracy_fn(logistic_regression(x_test), y_test)\n",
        "print('Accuracy: {}%'.format(test_acc * 100))"
      ],
      "metadata": {
        "colab": {
          "base_uri": "https://localhost:8080/"
        },
        "id": "AKSW1edwGFuc",
        "outputId": "a10dd369-dad0-4f13-b452-a74bfb9fd93a"
      },
      "execution_count": null,
      "outputs": [
        {
          "output_type": "stream",
          "name": "stdout",
          "text": [
            "Accuracy: 100%\n"
          ]
        }
      ]
    },
    {
      "cell_type": "code",
      "source": [
        ""
      ],
      "metadata": {
        "id": "nJRiLiMUGIJF"
      },
      "execution_count": null,
      "outputs": []
    }
  ]
}